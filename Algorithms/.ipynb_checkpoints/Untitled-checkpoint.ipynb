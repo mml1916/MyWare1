{
 "cells": [
  {
   "cell_type": "markdown",
   "metadata": {},
   "source": [
    "####  二分查找： 每次排除一半单词， 直到最后只剩下一个单词\n",
    "\n"
   ]
  },
  {
   "cell_type": "markdown",
   "metadata": {},
   "source": [
    "#### 一般而言， 对于包含n 个元素的列表， 用二分查找最多需要log2 n 步\n",
    "#### 仅当列表是有序的时候， 二分查找才管用"
   ]
  },
  {
   "cell_type": "code",
   "execution_count": 1,
   "metadata": {},
   "outputs": [],
   "source": [
    "def binary_search(list, item):\n",
    "    low = 0              #low和high用于跟踪要在其中查找的列表部分\n",
    "    high = len(list) - 1\n",
    "    \n",
    "    while low <= high:   #只要范围没有缩小到只包含一个元素\n",
    "        mid = (low + high)/ 2   #就检查中间的元素\n",
    "        guess = list[mid]\n",
    "        if  guess == item:       #找到了元素\n",
    "            return mid\n",
    "        if guess > item:         #猜的数字大了\n",
    "            high = mid -1\n",
    "        else:                   #猜的数字小了\n",
    "            low = mid + 1\n",
    "    return None"
   ]
  },
  {
   "cell_type": "code",
   "execution_count": null,
   "metadata": {},
   "outputs": [],
   "source": []
  }
 ],
 "metadata": {
  "kernelspec": {
   "display_name": "Python 2",
   "language": "python",
   "name": "python2"
  },
  "language_info": {
   "codemirror_mode": {
    "name": "ipython",
    "version": 2
   },
   "file_extension": ".py",
   "mimetype": "text/x-python",
   "name": "python",
   "nbconvert_exporter": "python",
   "pygments_lexer": "ipython2",
   "version": "2.7.14"
  }
 },
 "nbformat": 4,
 "nbformat_minor": 2
}
