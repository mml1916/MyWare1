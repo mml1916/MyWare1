{
 "cells": [
  {
   "cell_type": "markdown",
   "metadata": {},
   "source": [
    "####  二分查找： 每次排除一半单词， 直到最后只剩下一个单词,时间复杂度O(logn)\n",
    "\n"
   ]
  },
  {
   "cell_type": "markdown",
   "metadata": {},
   "source": [
    "#### 一般而言， 对于包含n 个元素的列表， 用二分查找最多需要log2 n 步\n",
    "#### 仅当列表是有序的时候， 二分查找才管用"
   ]
  },
  {
   "cell_type": "code",
   "execution_count": 1,
   "metadata": {},
   "outputs": [],
   "source": [
    "def binary_search(list, item):\n",
    "    low = 0              #low和high用于跟踪要在其中查找的列表部分\n",
    "    high = len(list) - 1\n",
    "    \n",
    "    while low <= high:   #只要范围没有缩小到只包含一个元素\n",
    "        mid = (low + high)/ 2   #就检查中间的元素\n",
    "        guess = list[mid]\n",
    "        if  guess == item:       #找到了元素\n",
    "            return mid\n",
    "        if guess > item:         #猜的数字大了\n",
    "            high = mid -1\n",
    "        else:                   #猜的数字小了\n",
    "            low = mid + 1\n",
    "    return None"
   ]
  },
  {
   "cell_type": "markdown",
   "metadata": {},
   "source": [
    "#### 选择排序：时间复杂度O（n^2）"
   ]
  },
  {
   "cell_type": "code",
   "execution_count": 7,
   "metadata": {},
   "outputs": [],
   "source": [
    "#找出数组最小元素的函数\n",
    "def findSmallest(arr):\n",
    "    #假设第一个元素为最小\n",
    "    smallest = arr[0]\n",
    "    smallest_index = 0\n",
    "    #循环比较,从索引1开始，到len-1\n",
    "    for i in range(1,len(arr)):\n",
    "        if arr[i] < smallest:\n",
    "            smallest = arr[i]\n",
    "            smallest_index = i\n",
    "    return smallest_index"
   ]
  },
  {
   "cell_type": "code",
   "execution_count": 10,
   "metadata": {},
   "outputs": [],
   "source": [
    "#选择排序\n",
    "def select_sort(arr):\n",
    "    newArr = []\n",
    "    #外循环，要进行多少趟查找，上面的函数是内循环，每一趟要比较多少次\n",
    "    for i in range(len(arr)):\n",
    "        smallest = findSmallest(arr)\n",
    "        #pop() 函数用于移除列表中的一个元素（默认最后一个元素），并且返回该元素的值。\n",
    "        newArr.append(arr.pop(smallest))\n",
    "    return newArr"
   ]
  },
  {
   "cell_type": "code",
   "execution_count": 11,
   "metadata": {},
   "outputs": [
    {
     "name": "stdout",
     "output_type": "stream",
     "text": [
      "[2, 3, 5, 6, 10]\n"
     ]
    }
   ],
   "source": [
    "print select_sort([5,3,6,2,10])"
   ]
  },
  {
   "cell_type": "markdown",
   "metadata": {},
   "source": [
    "#### 递归：递归只是让解决方案更清晰。编写递归函数时， 必须告诉它何时停止递归"
   ]
  },
  {
   "cell_type": "code",
   "execution_count": 12,
   "metadata": {},
   "outputs": [],
   "source": [
    "def count(i):\n",
    "    print i\n",
    "    count(i-1)"
   ]
  },
  {
   "cell_type": "code",
   "execution_count": null,
   "metadata": {},
   "outputs": [],
   "source": []
  }
 ],
 "metadata": {
  "kernelspec": {
   "display_name": "Python 2",
   "language": "python",
   "name": "python2"
  },
  "language_info": {
   "codemirror_mode": {
    "name": "ipython",
    "version": 2
   },
   "file_extension": ".py",
   "mimetype": "text/x-python",
   "name": "python",
   "nbconvert_exporter": "python",
   "pygments_lexer": "ipython2",
   "version": "2.7.14"
  }
 },
 "nbformat": 4,
 "nbformat_minor": 2
}
