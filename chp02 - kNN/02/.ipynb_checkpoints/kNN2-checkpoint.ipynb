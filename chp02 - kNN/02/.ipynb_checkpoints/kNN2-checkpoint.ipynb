{
 "cells": [
  {
   "cell_type": "markdown",
   "metadata": {},
   "source": [
    "### 使用k-近邻算法的手写识别系统"
   ]
  },
  {
   "cell_type": "markdown",
   "metadata": {},
   "source": [
    "#### （1）收集数据：提供文本文件"
   ]
  },
  {
   "cell_type": "markdown",
   "metadata": {},
   "source": [
    "#### （2）准备数据：编写函数img2vector(),将图像格式转换为分类器使用的向量格式"
   ]
  },
  {
   "cell_type": "markdown",
   "metadata": {},
   "source": [
    "#### （3）分析数据：在python 命令提示符中检查数据，确保它符合要求"
   ]
  },
  {
   "cell_type": "markdown",
   "metadata": {},
   "source": [
    "#### （4）训练算法：此步骤不适用于k-近邻算法"
   ]
  },
  {
   "cell_type": "markdown",
   "metadata": {},
   "source": [
    "#### （5）测试算法：编写函数使用提供的部分数据集作为测试样本，\n"
   ]
  },
  {
   "cell_type": "markdown",
   "metadata": {},
   "source": [
    "#### 测试样本于非测试样本，测试样本于非测试样本的区别在于测试样本"
   ]
  },
  {
   "cell_type": "markdown",
   "metadata": {},
   "source": [
    "#### 是已经完成分类的数据，如果预测分类与实际类别不同，则标记为一个错误"
   ]
  },
  {
   "cell_type": "code",
   "execution_count": 58,
   "metadata": {
    "scrolled": true
   },
   "outputs": [],
   "source": [
    "#从os模块中导入函数listdir，用于返回指定的文件夹包含的文件或文件夹的名字的列表，这个列表以字母顺序。 它不包括 '.' 和'..' 即使它在文件夹中。\n",
    "from os  import listdir \n",
    "#导入该kNN是因为用到了在kNN中定义的函数，同时这个该kNN文件必须放在D:python27/下，在jupyter notebook中kNN2才能执行成功\n",
    "from kNN import *"
   ]
  },
  {
   "cell_type": "markdown",
   "metadata": {},
   "source": [
    "##### 准备数据：将图像转换为测试向量"
   ]
  },
  {
   "cell_type": "code",
   "execution_count": 59,
   "metadata": {},
   "outputs": [],
   "source": [
    "def img2vector(filename):\n",
    "    #创建一个1*1024的Numpy数组\n",
    "    returnVect = zeros((1,1024))\n",
    "    #打开样本文件\n",
    "    fr = open(filename)\n",
    "    #给定的每一个样本文件都是一个数字，用32*32像素来表示一个数字，用i来表示\n",
    "    for i in range(32):\n",
    "        #读取一行\n",
    "        lineStr = fr.readline()\n",
    "        #用j来表示列。returnVector[0,x]表示具体的某一为元素，因为数组是1*1024, 所以0就代表这数组中唯一的一行，\n",
    "        #x = 32*i+j就表示是那一列的元素，用[0,x]做索引就可以确定元素位置，将新读取的一行linestr的第j个元素\n",
    "        #赋值到1*1024数组的[0,x]位置\n",
    "        for j in range(32):\n",
    "            returnVect[0, 32*i+j] = int(lineStr[j])\n",
    "    #返回1*1024数组\n",
    "    return returnVect"
   ]
  },
  {
   "cell_type": "code",
   "execution_count": 60,
   "metadata": {},
   "outputs": [],
   "source": [
    "def handwritingClassTest():\n",
    "    hwLabels = []\n",
    "    #返回当前目录下digits/trainingDigits/目录下的文件名列表\n",
    "    trainingFileList = listdir('digits/trainingDigits')\n",
    "    #计算列表长度\n",
    "    m = len(trainingFileList)\n",
    "    #创建一个m行1024列的数组\n",
    "    trainingMat = zeros((m,1024))\n",
    "    #\n",
    "    for i in range(m):\n",
    "        #读取出每一个文件名\n",
    "        fileNameStr = trainingFileList[i]\n",
    "        #将文件名以 .切开，[0]为文件名，[1]为txt\n",
    "        fileStr = fileNameStr.split('.')[0]\n",
    "        #将分割的文件名由字符串转换为整形\n",
    "        classNumStr = int(fileStr.split('_')[0])\n",
    "        #将类型转换完后的文件名添加进hwLabels列表\n",
    "        hwLabels.append(classNumStr)\n",
    "       # 调用数据转换函数，将图像数据转化为向量，并给trainingMat数组赋值\n",
    "        trainingMat[i, :] = img2vector('digits/trainingDigits/%s' %fileNameStr)\n",
    "    \n",
    "    #以下代码参考前述\n",
    "    testFileList = listdir('digits/testDigits')\n",
    "    errorCount = 0.0\n",
    "    mTest = len(testFileList)\n",
    "    for i in range(mTest):\n",
    "        fileNameStr = testFileList[i]\n",
    "        fileStr = fileNameStr.split('.')[0]\n",
    "        classNumStr = int(fileStr.split('_')[0])\n",
    "        vectorUnderTest = img2vector('digits/testDigits/%s' %fileNameStr)\n",
    "        classifierResult = classify0(vectorUnderTest, trainingMat, hwLabels, 3)\n",
    "        print \"the classifier came back with: %d, the real answer is: %d\" %(classifierResult, classNumStr)\n",
    "        if (classifierResult != classNumStr): errorCount += 1.0\n",
    "    print \"\\nThe total number of errors is: %d\" % errorCount\n",
    "    print \"\\nthe total error rate is: %f\" %(errorCount/float(mTest))\n",
    "        "
   ]
  },
  {
   "cell_type": "code",
   "execution_count": null,
   "metadata": {},
   "outputs": [],
   "source": []
  }
 ],
 "metadata": {
  "kernelspec": {
   "display_name": "Python 2",
   "language": "python",
   "name": "python2"
  },
  "language_info": {
   "codemirror_mode": {
    "name": "ipython",
    "version": 2
   },
   "file_extension": ".py",
   "mimetype": "text/x-python",
   "name": "python",
   "nbconvert_exporter": "python",
   "pygments_lexer": "ipython2",
   "version": "2.7.14"
  }
 },
 "nbformat": 4,
 "nbformat_minor": 2
}
