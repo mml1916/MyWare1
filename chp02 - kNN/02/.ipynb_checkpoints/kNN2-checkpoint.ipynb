{
 "cells": [
  {
   "cell_type": "markdown",
   "metadata": {},
   "source": [
    "### 使用k-近邻算法的手写识别系统"
   ]
  },
  {
   "cell_type": "markdown",
   "metadata": {},
   "source": [
    "#### （1）收集数据：提供文本文件"
   ]
  },
  {
   "cell_type": "markdown",
   "metadata": {},
   "source": [
    "#### （2）准备数据：编写函数img2vector(),将图像格式转换为分类器使用的向量格式"
   ]
  },
  {
   "cell_type": "markdown",
   "metadata": {},
   "source": [
    "#### （3）分析数据：在python 命令提示符中检查数据，确保它符合要求"
   ]
  },
  {
   "cell_type": "markdown",
   "metadata": {},
   "source": [
    "#### （4）训练算法：此步骤不适用于k-近邻算法"
   ]
  },
  {
   "cell_type": "markdown",
   "metadata": {},
   "source": [
    "#### （5）测试算法：编写函数使用提供的部分数据集作为测试样本，\n"
   ]
  },
  {
   "cell_type": "markdown",
   "metadata": {},
   "source": [
    "#### 测试样本于非测试样本，测试样本于非测试样本的区别在于测试样本"
   ]
  },
  {
   "cell_type": "markdown",
   "metadata": {},
   "source": [
    "#### 是已经完成分类的数据，如果预测分类与实际类别不同，则标记为一个错误"
   ]
  },
  {
   "cell_type": "markdown",
   "metadata": {},
   "source": [
    "##### 准备数据：将图像转换为测试向量"
   ]
  },
  {
   "cell_type": "code",
   "execution_count": 2,
   "metadata": {},
   "outputs": [],
   "source": [
    "def img2vector(filename):\n",
    "    #创建一个1*1024的Numpy数组\n",
    "    returnVect = zeros((1,1024))\n",
    "    #打开样本文件\n",
    "    fr = open(filename)\n",
    "    #给定的每一个样本文件都是一个数字，用32*32像素来表示一个数字，用i来表示\n",
    "    for i in range(32):\n",
    "        #读取一行\n",
    "        lineStr = fr.readline()\n",
    "        #用j来表示列。returnVector[0,x]表示具体的某一为元素，因为数组是1*1024, 所以0就代表这数组中唯一的一行，\n",
    "        #x = 32*i+j就表示是那一列的元素，用[0,x]做索引就可以确定元素位置，将新读取的一行linestr的第j个元素\n",
    "        #赋值到1*1024数组的[0,x]位置\n",
    "        for j in range(32):\n",
    "            returnVector[0, 32*i+j] = int(lineStr[j])\n",
    "    #返回1*1024数组\n",
    "    return returnVector"
   ]
  },
  {
   "cell_type": "code",
   "execution_count": null,
   "metadata": {},
   "outputs": [],
   "source": []
  }
 ],
 "metadata": {
  "kernelspec": {
   "display_name": "Python 2",
   "language": "python",
   "name": "python2"
  },
  "language_info": {
   "codemirror_mode": {
    "name": "ipython",
    "version": 2
   },
   "file_extension": ".py",
   "mimetype": "text/x-python",
   "name": "python",
   "nbconvert_exporter": "python",
   "pygments_lexer": "ipython2",
   "version": "2.7.14"
  }
 },
 "nbformat": 4,
 "nbformat_minor": 2
}
