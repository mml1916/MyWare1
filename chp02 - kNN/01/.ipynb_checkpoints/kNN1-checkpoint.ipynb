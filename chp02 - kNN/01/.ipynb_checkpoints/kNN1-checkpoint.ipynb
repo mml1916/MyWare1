{
 "cells": [
  {
   "cell_type": "markdown",
   "metadata": {},
   "source": [
    "### chp2-kNN(约会网站预测)"
   ]
  },
  {
   "cell_type": "markdown",
   "metadata": {},
   "source": [
    "#### (1)计算已知类别数据集中的点与当前点之间的距离；(2)按照距离递增次序排序；(3)选取与当前点距离最小的走个点；(4)确定前K个点所在类别的出现频率；(5)返回前女个点出现频率最高的类别作为当前点的预测分类。\n"
   ]
  },
  {
   "cell_type": "code",
   "execution_count": 11,
   "metadata": {},
   "outputs": [],
   "source": [
    "from numpy import *\n",
    "import operator "
   ]
  },
  {
   "cell_type": "markdown",
   "metadata": {},
   "source": [
    "##### 创建数据集和标签"
   ]
  },
  {
   "cell_type": "code",
   "execution_count": 12,
   "metadata": {},
   "outputs": [],
   "source": [
    "def createDataSet():\n",
    "\tgroup = array([[1.0, 1.1], [1.0, 1.0], [0, 0], [0, 0.1]])\n",
    "\tlabels = ['A', 'A', 'B', 'B']\n",
    "\treturn group, labels"
   ]
  },
  {
   "cell_type": "markdown",
   "metadata": {},
   "source": [
    "#####  k-近邻算法  利用shape可输出矩阵的维度，即行数和列数。shape[0]和shape[1]分别代表行和列的长度"
   ]
  },
  {
   "cell_type": "code",
   "execution_count": 13,
   "metadata": {},
   "outputs": [],
   "source": [
    "def classify0(inX, dataSet, labels, k):\n",
    "\tdataSetSize = dataSet.shape[0] #4\n",
    "\t#拼贴函数tile ，从后往前拼贴为新数组, 之后与dataset数组做减法运算\n",
    "\t# [ [0,0],\n",
    "\t#\t[0,0],\n",
    "\t#\t[0,0],\n",
    "\t#\t[0,0]]\n",
    "\tdiffMat = tile (inX, (dataSetSize, 1)) - dataSet \n",
    "\t#由各数组元素的平方构成新的数组\n",
    "\tsqDiffMat = diffMat **2\n",
    "\t#沿着横轴方向求和\n",
    "\tsqDistances = sqDiffMat.sum(axis = 1)\n",
    "\t#对各元素开根号\n",
    "\tdistances = sqDistances**0.5\n",
    "\t#对数组或元组a进行升序排序， 返回的是升序之后的各个元素在原来a未升序之前的下标，即返回升序之后对应的下标数组\n",
    "\tsortedDistIndicies = distances.argsort()\n",
    "\t#创建字典\n",
    "\tclassCount= {}\n",
    "\tfor i in range(k):\n",
    "\t#选取与[0,0]距离最小的k个点，返回每个点的标签\n",
    "\t\tvoteIlabel = labels[sortedDistIndicies[i]]\n",
    "\t#dict.get(key, default=None) key -- 字典中要查找的键。default -- 如果指定键的值不存在时，返回该默认值。本例中，即返回0\n",
    "\t#该句代码，实际上是在统计前K个点所在类别出现的频数\n",
    "\t\tclassCount[voteIlabel] = classCount.get(voteIlabel, 0) + 1\n",
    "\t#sorted  为python内置排序函数，该语句为使用字典classCount的迭代器进行排列，按排列对象的第1个域（也即每个类型的频数）大小进行比较，降序排列\n",
    "\tsortedClassCount = sorted(classCount.iteritems(), key=operator.itemgetter(1), reverse=True)\n",
    "\treturn sortedClassCount[0][0]"
   ]
  },
  {
   "cell_type": "markdown",
   "metadata": {},
   "source": [
    "##### 准备数据：\t从文本文件中解析数据"
   ]
  },
  {
   "cell_type": "code",
   "execution_count": 14,
   "metadata": {},
   "outputs": [],
   "source": [
    "def file2matrix(filename):\n",
    "\tfr = open(filename)\n",
    "\t#readlines()每次按行读取整个文件内容，将读取到的内容放到一个列表中，返回list类型，该列表可以由for... in ... 结构进行处理\n",
    "\tarrayOLines = fr.readlines()\n",
    "\tnumberOfLines = len(arrayOLines)\n",
    "\t#创建全0的多维数组\n",
    "\treturnMat = zeros((numberOfLines,3))\n",
    "\tclassLabelVector = []\n",
    "\tindex = 0\n",
    "\tfor line in arrayOLines:\n",
    "\t#s为字符串，rm为要删除的字符序列\n",
    "\t#s.strip(rm)        删除s字符串中开头、结尾处，位于 rm删除序列的字符\n",
    "\t#当rm为空时，默认删除空白符（包括'\\n', '\\r',  '\\t',  ' ')\n",
    "\t\tline = line.strip()\n",
    "\t#Python split()通过指定分隔符对字符串进行切片，如果参数num 有指定值，则仅分隔 num 个子字符串\n",
    "\t\tlistFromLine = line.split('\\t')\n",
    "\t#多维数组赋值\n",
    "\t\treturnMat[index,:] = listFromLine[0:3]\n",
    "\t#将标签放入列表，int（lisFromLine[-1]）将字符串转换为int\n",
    "\t\tclassLabelVector.append(int(listFromLine[-1]))\n",
    "\t\tindex += 1\n",
    "\treturn returnMat,classLabelVector"
   ]
  },
  {
   "cell_type": "markdown",
   "metadata": {},
   "source": [
    "##### 准备数据：归一化数值（处理不同取值范围的特征值），方法使用当前值减去最小值，然后除以取值范围（83和85行）"
   ]
  },
  {
   "cell_type": "code",
   "execution_count": 15,
   "metadata": {},
   "outputs": [],
   "source": [
    "def autoNorm(dataSet):\n",
    "\t#在数组第一维中比较，在列中选取最小值，而不是选取当前行的最小值，如a=np.array([1,5,3],[2,4,6]), 则a.min(0) = [1,2,3]\n",
    "\tminVals = dataSet.min(0)\n",
    "\tmaxVals = dataSet.max(0)\n",
    "\tranges = maxVals-minVals\n",
    "\t#创建一个和dataSet维度相等的全0数组\n",
    "\tnormDataSet = zeros(shape(dataSet))\n",
    "\t#求dataSet数组第一维的维数\n",
    "\tm = dataSet.shape[0]\n",
    "\t#利用拼贴tile将minVals重复m次，详细用法参见有道云笔记numpy，之后和dataSet相减\n",
    "\tnormDataSet = dataSet-tile(minVals,(m,1))\n",
    "\t#同上，相除\n",
    "\tnormDataSet = normDataSet/tile(ranges,(m,1))\n",
    "\treturn normDataSet, ranges, minVals"
   ]
  },
  {
   "cell_type": "markdown",
   "metadata": {},
   "source": [
    "##### 测试算法：评估算法的正确率，通常只提供数据的90%作为训练样本来训练分类器，而使用其余的10%数据去测试分类器"
   ]
  },
  {
   "cell_type": "code",
   "execution_count": 16,
   "metadata": {},
   "outputs": [],
   "source": [
    "def datingClassTest():\n",
    "\thoRatio = 0.10\n",
    "\t#从文件中读取数据并将其转换为归一化特征值\n",
    "\tdatingDataMat,datingLabels = file2matrix('datingTestSet2.txt')\n",
    "\tnormMat, ranges, minVals = autoNorm(datingDataMat)\n",
    "\t#求normMat数组第一维的维数\n",
    "\tm = normMat.shape[0]\n",
    "\t#求用于测试的数据的维数，即有多少数据用于测试\n",
    "\tnumTestVecs = int(m*hoRatio)\n",
    "\terrorCount = 0.0\n",
    "\t#把10%的数据的每一个样本取出作为一个数组\n",
    "\tfor i in range(numTestVecs):\n",
    "\t\t#normMat[i,:]从10%的数据集中取出一个样本（也即整个数据中的第i个样本）作为预测对象\n",
    "\t\t#normMat[numTestVecs:m,:]：在整个数据集normMat中，取出前numTestVecs作为测试数据，从numTestVecs 开始到normMat\n",
    "\t\t#数组结束作为用于训练的90%数据\n",
    "\t\t#datingLabels[numTestVecs:m]:90%数据的标签\n",
    "\t\t#3：取前三个距离最近的数据样本的标签\n",
    "\t\tclassifierResult = classify0(normMat[i,:],normMat[numTestVecs:m,:],\\\n",
    "\t\t\t\t\t\t\tdatingLabels[numTestVecs:m],3)\n",
    "\t\t#预测的标签和实际的标签\n",
    "\t\tprint \"the classifier came back with :%d, the real answer is: %d\"\\\n",
    "\t\t\t\t\t%(classifierResult, datingLabels[i])\n",
    "\t\t#测试的数据样本中出错的次数/ 测试数据样本个数\n",
    "\t\tif (classifierResult != datingLabels[i]): errorCount += 1.0\n",
    "\tprint \"the total error rate is: %f\" %(errorCount/float(numTestVecs))"
   ]
  },
  {
   "cell_type": "code",
   "execution_count": 23,
   "metadata": {},
   "outputs": [],
   "source": [
    "def classifyPerson():\n",
    "    #最终分类的标签\n",
    "    resultList = ['not at all', 'in small doses', 'in large doses']\n",
    "    #交互输入三个特征值\n",
    "    percentTats = float(raw_input(\"percentage of time spent playing video games?\"))\n",
    "    ffMiles = float(raw_input(\"frequent flier miles earned per year?\"))\n",
    "    iceCream = float(raw_input(\"little of ice cream consumed per year?\"))\n",
    "     #从数据集文本文件中解析数据\n",
    "    datingDataMat, datingLabels = file2matrix('datingTestSet2.txt')\n",
    "    #归一化特征值\n",
    "    normMat, ranges, minVals = autoNorm(datingDataMat)\n",
    "    #待预测的数据的三个特征值组成的数组\n",
    "    inArr = array([ffMiles, percentTats,iceCream])\n",
    "    #调用kNN算法，其中的(inArr-minVals)/ranges 是对带预测的数据进行归一化特征值操作，normMat是归一化后的训练集\n",
    "\t#datingLabels是训练集的标签，文本文件datingTestSet2.txt（训练集）中的标签是1、2、3，所以这里返回的classifierResult\n",
    "\t#就是1、2、3中的一个，书中在一开始描述kNN算法（函数classify）时标签用的是A、B,注意区分；另因为该函数开始定义的分类标签\n",
    "\t#resultList是一个列表，索引从0开始，所以classifierResult要减1\n",
    "    classifierResult = classify0((inArr - minVals)/ ranges, normMat, datingLabels, 3)\n",
    "    print \"You will probably like this person: \", resultList[classifierResult - 1]\n",
    "    "
   ]
  },
  {
   "cell_type": "code",
   "execution_count": null,
   "metadata": {},
   "outputs": [],
   "source": []
  }
 ],
 "metadata": {
  "kernelspec": {
   "display_name": "Python 2",
   "language": "python",
   "name": "python2"
  },
  "language_info": {
   "codemirror_mode": {
    "name": "ipython",
    "version": 2
   },
   "file_extension": ".py",
   "mimetype": "text/x-python",
   "name": "python",
   "nbconvert_exporter": "python",
   "pygments_lexer": "ipython2",
   "version": "2.7.14"
  }
 },
 "nbformat": 4,
 "nbformat_minor": 2
}
