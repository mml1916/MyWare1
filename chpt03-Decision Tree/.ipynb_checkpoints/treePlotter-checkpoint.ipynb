{
 "cells": [
  {
   "cell_type": "markdown",
   "metadata": {},
   "source": [
    "#### matplotlib 提供了一个非常有用的注解工具annotations，可以在数据图形上添加文本注解 ，注解通常用于解释数据的内容"
   ]
  },
  {
   "cell_type": "code",
   "execution_count": 113,
   "metadata": {},
   "outputs": [],
   "source": [
    "%matplotlib inline"
   ]
  },
  {
   "cell_type": "code",
   "execution_count": 114,
   "metadata": {},
   "outputs": [],
   "source": [
    "import matplotlib.pyplot as plt"
   ]
  },
  {
   "cell_type": "markdown",
   "metadata": {},
   "source": [
    "#### 使用文本注解绘制树节点"
   ]
  },
  {
   "cell_type": "code",
   "execution_count": 115,
   "metadata": {},
   "outputs": [],
   "source": [
    "#创建字典的另一种方法，字典的内置函数dict（）创建\n",
    "#决策点的属性， boxstyle为文本框的类型，sawtooth是锯齿形，fc是文本框内的颜色  \n",
    "decisionNode = dict(boxstyle = \"sawtooth\", fc = \"0.8\")"
   ]
  },
  {
   "cell_type": "code",
   "execution_count": 116,
   "metadata": {},
   "outputs": [],
   "source": [
    "leafNode = dict(boxstyle = \"round4\", fc =  \"0.8\")#叶子节点的属性"
   ]
  },
  {
   "cell_type": "code",
   "execution_count": 117,
   "metadata": {},
   "outputs": [],
   "source": [
    "arrow_args = dict(arrowstyle = \"<-\")#箭头的属性"
   ]
  },
  {
   "cell_type": "code",
   "execution_count": 118,
   "metadata": {},
   "outputs": [],
   "source": [
    "def plotNode(nodeTxt, centerPt, parentPt, nodeType):\n",
    "#nodeTxt为要显示的文本，xy：被注释点的位置（在完整的树结构图中为指向文本的点，也即参数parentPt），\n",
    "#xytext：注释文本的位置坐标（在后续完整的树结构图中为文本的中心点，也即箭头所在的点centerPt）， nodeType为前面定义的决策点或叶子节点\n",
    "#xycoords 和 textcoords 是字符串，指示 xy 和 xytext 的坐标关系(坐标xy与xytext的说明)：若textcoords=None，则\n",
    "#默认textcoords与xycoords相同，若都未设置，默认为data\n",
    "#va/ha设置节点框中文字的位置，va为纵向取值为(u'top', u'bottom', u'center', u'baseline')，ha为横向取值为(u'center', u'right', u'left'\n",
    "    createPlot.ax1.annotate(nodeTxt, xy = parentPt, xycoords = 'axes fraction', xytext = centerPt, textcoords = 'axes fraction',\\\n",
    "                           va = \"center\", ha = \"center\", bbox = nodeType, arrowprops = arrow_args)"
   ]
  },
  {
   "cell_type": "code",
   "execution_count": 119,
   "metadata": {},
   "outputs": [],
   "source": [
    "def createPlot():\n",
    "    #创建一个画布，背景为白色\n",
    "    fig = plt.figure(1, facecolor = 'white')\n",
    "    #画布清空\n",
    "    fig.clf()\n",
    "    #ax1是函数createPlot的一个属性，这个可以在函数里面定义也可以在函数定义后加入也可以\n",
    "    #frameon表示是否绘制坐标轴矩形    \n",
    "    createPlot.ax1 = plt.subplot(111, frameon = False)\n",
    "    plotNode('a decision node', (0.5, 0.1), (0.1, 0.5), decisionNode)\n",
    "    plotNode('a leaf node',(0.8, 0.1), (0.3, 0.8), leafNode)\n",
    "    plt.show()"
   ]
  },
  {
   "cell_type": "markdown",
   "metadata": {},
   "source": [
    "#### 获取叶节点的数目和树的层数 （在该例中如果键值是类标签（yes或no），则该节点是叶子节点；若值是另一个字典，则该节点是判断节点）"
   ]
  },
  {
   "cell_type": "code",
   "execution_count": 120,
   "metadata": {},
   "outputs": [],
   "source": [
    "#叶节点的数目\n",
    "def getNumLeafs(myTree):\n",
    "    #定义叶子节点数目变量\n",
    "    numLeafs = 0\n",
    "    #获得myTree的第一个键，即第一个特征\n",
    "    firstStr = myTree.keys()[0]\n",
    "    # 根据键得到对应的键值，即根据第一个特征分类的结果 \n",
    "    secondDict = myTree[firstStr]\n",
    "    #遍历secondDict字典的键\n",
    "    for key in secondDict.keys():\n",
    "        #若相应的键的键值又为一个字典，即判断节点，则进行递归，直到为叶子节点\n",
    "        if type(secondDict[key]).__name__=='dict':\n",
    "            numLeafs += getNumLeafs(secondDict[key])\n",
    "        #若相应的键的键值不是字典，是类标签，则为叶子节点，numLeafs加1\n",
    "        else:   numLeafs +=1\n",
    "    #返回叶子节点的数目\n",
    "    return numLeafs"
   ]
  },
  {
   "cell_type": "code",
   "execution_count": 121,
   "metadata": {},
   "outputs": [],
   "source": [
    "#获取树的层数(计算遍历过程中遇到判断节点的个数，即层数)\n",
    "def getTreeDepth(myTree):\n",
    "    #定义关于树的层数的变量\n",
    "    maxDepth = 0\n",
    "    #获得myTree的第一个键，即第一个特征\n",
    "    firstStr = myTree.keys()[0]\n",
    "     # 根据键得到对应的键值，即根据第一个特征分类的结果 \n",
    "    secondDict = myTree[firstStr]\n",
    "   # print secondDict\n",
    "    #遍历secondDict字典的键\n",
    "    for key in secondDict.keys():\n",
    "        #print key\n",
    "        #若相应的键的键值又为一个字典，即判断节点，则进行递归，直到为叶子节点终止，一旦到达叶子节点，\n",
    "        #则从递归调用中返回，并将计算树的深度加1\n",
    "        if type(secondDict[key]).__name__=='dict':\n",
    "            thisDepth = 1 + getTreeDepth(secondDict[key])\n",
    "        #若为叶子节点，则当前树的深度设为1\n",
    "        else:   thisDepth = 1\n",
    "        # 如果当前树的深度大于数最大深度  \n",
    "        if thisDepth > maxDepth: maxDepth = thisDepth\n",
    "    #返回树的最大深度\n",
    "    return maxDepth"
   ]
  },
  {
   "cell_type": "code",
   "execution_count": 122,
   "metadata": {},
   "outputs": [],
   "source": [
    "def plotMidText(cntrPt, parentPt, txtString):\n",
    "    xMid = (parentPt[0]-cntrPt[0])/2.0 + cntrPt[0]\n",
    "    yMid = (parentPt[1]-cntrPt[1])/2.0 + cntrPt[1]\n",
    "    createPlot.ax1.text(xMid, yMid, txtString, va=\"center\", ha=\"center\", rotation=30)\n"
   ]
  },
  {
   "cell_type": "markdown",
   "metadata": {},
   "source": [
    "#### 变量plotTree.totalW存储树的宽度，plotTree.totalD存储树的深度（用这两个变量计算树节点的摆放位置，这样可以将树绘制在水平方向和垂直方向的中心位置）；\n",
    "\n",
    "#### plotTree.xoff和plotTree.yoff追踪已经绘制的节点位置，以及放置下一个节点的恰当位置"
   ]
  },
  {
   "cell_type": "markdown",
   "metadata": {},
   "source": [
    "### 树的宽度用于极端放置判断节点的位置，主要的计算原则是将它放在所有叶子节点的中间，而不仅仅是它的子节点的中间。"
   ]
  },
  {
   "cell_type": "markdown",
   "metadata": {},
   "source": [
    "### 通过计算树包含的所有叶子节点数，划分图形的宽度，从而计算得到当前节点的中心位置，也就是说，我们按照叶子节点的数目将X轴化分为若干部分 "
   ]
  },
  {
   "cell_type": "code",
   "execution_count": 123,
   "metadata": {},
   "outputs": [],
   "source": [
    "def plotTree(myTree, parentPt, nodeTxt):\n",
    "    #计算树叶子节点（宽度）\n",
    "    numLeafs = getNumLeafs(myTree) \n",
    "    #计算树的判断节点（高度）\n",
    "    depth = getTreeDepth(myTree)\n",
    "    #获得myTree的第一个键，即第一个特征\n",
    "    firstStr = myTree.keys()[0] \n",
    "    #其中，变量plotTree.xOff即为最近绘制的一个叶子节点的x轴坐标，\n",
    "    #在确定当前节点位置时每次只需确定当前节点有几个叶子节点，因此其叶子节点所占的\n",
    "    #总距离就确定了即为： float(numLeafs)/plotTree.totalW，因此当前节点的位置即为其所有叶子节点\n",
    "    #所占距离的中间即一半为： float(numLeafs)/2.0/plotTree.totalW，但是由于开始plotTree.xOff赋值\n",
    "    #并非从0开始，而是左移了半个表格，因此还需加上半个表格距离即为： 1/2/plotTree.totalW，\n",
    "    #则加起来便为： (1.0 + float(numLeafs))/2.0/plotTree.totalW，因此偏移量确定，则x轴的位置变为： \n",
    "    # plotTree.xOff + (1.0 + float(numLeafs))/2.0/plotTree.totalW\n",
    "    cntrPt = (plotTree.xOff + (1.0 + float(numLeafs))/2.0/plotTree.totalW, plotTree.yOff)\n",
    "    print cntrPt\n",
    "    #\n",
    "    plotMidText(cntrPt, parentPt, nodeTxt)\n",
    "    plotNode(firstStr, cntrPt, parentPt, decisionNode)\n",
    "    secondDict = myTree[firstStr]\n",
    "    plotTree.yOff = plotTree.yOff - 1.0/plotTree.totalD\n",
    "    for key in secondDict.keys():\n",
    "        if type(secondDict[key]).__name__=='dict':  \n",
    "            plotTree(secondDict[key],cntrPt,str(key))        \n",
    "        else:\n",
    "            plotTree.xOff = plotTree.xOff + 1.0/plotTree.totalW\n",
    "            plotNode(secondDict[key], (plotTree.xOff, plotTree.yOff), cntrPt, leafNode)\n",
    "            plotMidText((plotTree.xOff, plotTree.yOff), cntrPt, str(key))\n",
    "    plotTree.yOff = plotTree.yOff + 1.0/plotTree.totalD"
   ]
  },
  {
   "cell_type": "code",
   "execution_count": null,
   "metadata": {},
   "outputs": [],
   "source": []
  },
  {
   "cell_type": "code",
   "execution_count": 124,
   "metadata": {},
   "outputs": [],
   "source": [
    "def createPlot(inTree):\n",
    "    #定义一块画布(画布是自己的理解) ，背景为白色\n",
    "    fig = plt.figure(1, facecolor='white')\n",
    "    # 清空画布 \n",
    "    fig.clf()\n",
    "    #xticks和yticks: 为x,y轴的主刻度和次刻度设置颜色、大小、方向，以及标签大小。定义横纵坐标轴，无内容  \n",
    "    axprops = dict(xticks=[], yticks=[])\n",
    "    #绘制图像，无边框，无坐标轴 \n",
    "    createPlot.ax1 = plt.subplot(111, frameon=False, **axprops)  \n",
    "    #存储树的宽度（所有叶子节点）\n",
    "    plotTree.totalW = float(getNumLeafs(inTree))\n",
    "    #存储树的深度（判断节点的数目）\n",
    "    plotTree.totalD = float(getTreeDepth(inTree))\n",
    "    ## 决策树起始横坐标  1/plotTree.totalW是按照叶子节点的数目将x轴划分为若干个部分的每一部分的长度，\n",
    "    #乘以-0.5即意为x开始位置为第一个表格左边的半个表格距离位置\n",
    "    plotTree.xOff = -0.5/plotTree.totalW;\n",
    "    # 决策树的起始纵坐标\n",
    "    plotTree.yOff = 1.0;\n",
    "    # 绘制决策树 \n",
    "    plotTree(inTree, (0.5,1.0), '')\n",
    "    #显示\n",
    "    plt.show()"
   ]
  },
  {
   "cell_type": "markdown",
   "metadata": {},
   "source": [
    "#### 该函数主要用于测试，输出预先存储的树信息，避免每次测试代码时都要从数据中创建树的麻烦"
   ]
  },
  {
   "cell_type": "code",
   "execution_count": 125,
   "metadata": {},
   "outputs": [],
   "source": [
    "def retrieveTree(i):\n",
    "    listOfTrees =[{'no surfacing': {0: 'no', 1: {'flippers': {0: 'no', 1: 'yes'}}}},\n",
    "                  {'no surfacing': {0: 'no', 1: {'flippers': {0: {'head': {0: 'no', 1: 'yes'}}, 1: 'no'}}}}\n",
    "                  ]\n",
    "    return listOfTrees[i]\n"
   ]
  },
  {
   "cell_type": "code",
   "execution_count": 126,
   "metadata": {},
   "outputs": [
    {
     "data": {
      "text/plain": [
       "{'no surfacing': {0: 'no', 1: {'flippers': {0: 'no', 1: 'yes'}}}}"
      ]
     },
     "execution_count": 126,
     "metadata": {},
     "output_type": "execute_result"
    }
   ],
   "source": [
    "retrieveTree(0)"
   ]
  },
  {
   "cell_type": "code",
   "execution_count": 127,
   "metadata": {},
   "outputs": [
    {
     "name": "stdout",
     "output_type": "stream",
     "text": [
      "(0.5, 1.0)\n",
      "(0.625, 0.6666666666666667)\n",
      "(0.5, 0.3333333333333334)\n"
     ]
    },
    {
     "data": {
      "image/png": "[encoded data removed]",
      "text/plain": [
       "<matplotlib.figure.Figure at 0x10b869b0>"
      ]
     },
     "metadata": {},
     "output_type": "display_data"
    }
   ],
   "source": [
    "createPlot(myTree)"
   ]
  },
  {
   "cell_type": "code",
   "execution_count": null,
   "metadata": {},
   "outputs": [],
   "source": []
  }
 ],
 "metadata": {
  "kernelspec": {
   "display_name": "Python 2",
   "language": "python",
   "name": "python2"
  },
  "language_info": {
   "codemirror_mode": {
    "name": "ipython",
    "version": 2
   },
   "file_extension": ".py",
   "mimetype": "text/x-python",
   "name": "python",
   "nbconvert_exporter": "python",
   "pygments_lexer": "ipython2",
   "version": "2.7.14"
  }
 },
 "nbformat": 4,
 "nbformat_minor": 2
}
